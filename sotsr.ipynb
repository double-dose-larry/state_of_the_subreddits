{
 "cells": [
  {
   "cell_type": "code",
   "execution_count": 1,
   "metadata": {},
   "outputs": [],
   "source": [
    "# will need firefox-geckodriver system package on Ubuntu"
   ]
  },
  {
   "cell_type": "code",
   "execution_count": 2,
   "metadata": {},
   "outputs": [
    {
     "name": "stdout",
     "output_type": "stream",
     "text": [
      "Collecting selenium\n",
      "\u001b[?25l  Downloading https://files.pythonhosted.org/packages/80/d6/4294f0b4bce4de0abf13e17190289f9d0613b0a44e5dd6a7f5ca98459853/selenium-3.141.0-py2.py3-none-any.whl (904kB)\n",
      "\u001b[K     |████████████████████████████████| 911kB 2.8MB/s eta 0:00:01\n",
      "\u001b[?25hRequirement already satisfied: urllib3 in /home/jup/miniconda3/envs/jup/lib/python3.7/site-packages (from selenium) (1.25.6)\n",
      "Installing collected packages: selenium\n",
      "Successfully installed selenium-3.141.0\n"
     ]
    }
   ],
   "source": [
    "!pip install selenium"
   ]
  },
  {
   "cell_type": "code",
   "execution_count": 20,
   "metadata": {},
   "outputs": [
    {
     "name": "stdout",
     "output_type": "stream",
     "text": [
      "Collecting imgurpython\n",
      "  Downloading https://files.pythonhosted.org/packages/d4/76/514defcb05e6d58ded427f57d736ce6dfe879e0188392385a986e8ef3b7b/imgurpython-1.1.7.tar.gz\n",
      "Requirement already satisfied: requests in /home/jup/miniconda3/envs/jup/lib/python3.7/site-packages (from imgurpython) (2.22.0)\n",
      "Requirement already satisfied: chardet<3.1.0,>=3.0.2 in /home/jup/miniconda3/envs/jup/lib/python3.7/site-packages (from requests->imgurpython) (3.0.4)\n",
      "Requirement already satisfied: urllib3!=1.25.0,!=1.25.1,<1.26,>=1.21.1 in /home/jup/miniconda3/envs/jup/lib/python3.7/site-packages (from requests->imgurpython) (1.25.6)\n",
      "Requirement already satisfied: idna<2.9,>=2.5 in /home/jup/miniconda3/envs/jup/lib/python3.7/site-packages (from requests->imgurpython) (2.8)\n",
      "Requirement already satisfied: certifi>=2017.4.17 in /home/jup/miniconda3/envs/jup/lib/python3.7/site-packages (from requests->imgurpython) (2019.9.11)\n",
      "Building wheels for collected packages: imgurpython\n",
      "  Building wheel for imgurpython (setup.py) ... \u001b[?25ldone\n",
      "\u001b[?25h  Created wheel for imgurpython: filename=imgurpython-1.1.7-cp37-none-any.whl size=12573 sha256=4a41665e282a2b15eb5760fc9a7c85bfab2d912fe374b8a15c2a1f486518d130\n",
      "  Stored in directory: /home/jup/.cache/pip/wheels/56/7d/ba/b8019b62cf451f791c7cfb6a96bf31d174a30b99b3c2632b5e\n",
      "Successfully built imgurpython\n",
      "Installing collected packages: imgurpython\n",
      "Successfully installed imgurpython-1.1.7\n"
     ]
    }
   ],
   "source": [
    "!pip install imgurpython"
   ]
  },
  {
   "cell_type": "code",
   "execution_count": 1,
   "metadata": {},
   "outputs": [],
   "source": [
    "from selenium import webdriver\n",
    "from time import sleep\n",
    "import os\n",
    "import datetime"
   ]
  },
  {
   "cell_type": "code",
   "execution_count": 2,
   "metadata": {},
   "outputs": [],
   "source": [
    "subreddits = {\n",
    "    'Baltimore Orioles' : 'orioles',\n",
    "    'Boston Redsox' : 'redsox',\n",
    "    'New York Yankees' : 'NYYankees',\n",
    "    'Tampa Bay Rays' : 'tampabayrays',\n",
    "    'Toronto Blue Jays' : 'torontobluejays',\n",
    "    'Cleveland Indians' : 'ClevelandIndians',\n",
    "    'Minnesota Twins' : 'minnesotatwins',\n",
    "    'Kansas City Royals' : 'KCRoyals',\n",
    "    'Chicago White Sox' : 'whitesox',\n",
    "    'Detroit Tigers' : 'motorcitykitties',\n",
    "    'Houston Astros' : 'Astros',\n",
    "    'Los Angeles Angels' : 'angelsbaseball',\n",
    "    'Oakland Athletics' : 'OaklandAthletics',\n",
    "    'Seattle Mariners' : 'Mariners',\n",
    "    'Texas Rangers' : 'TexasRangers',\n",
    "    'Atlanta Braves' : 'Braves',\n",
    "    'Miami Marlins' : 'letsgofish',\n",
    "    'New York Mets' : 'NewYorkMets',\n",
    "    'Philadelphia Phillies' : 'phillies',\n",
    "    'Washington Nationals' : 'Nationals',\n",
    "    'Pittsburgh Pirates' : 'buccos',\n",
    "    'Milwaukee Brewers' : 'Brewers',\n",
    "    'St. Louis Cardinals' : 'Cardinals',\n",
    "    'Chicago Cubs' : 'CHICubs',\n",
    "    'Cincinnati Reds' : 'Reds',\n",
    "    'Arizona Diamondbacks' : 'azdiamondbacks',\n",
    "    'Los Angeles Dodgers' : 'Dodgers',\n",
    "    'San Francsisco Giants' : 'SFGiants',\n",
    "    'Colorado Rockies' : 'ColoradoRockies',\n",
    "    'San Diego Padres' : 'Padres'\n",
    "}"
   ]
  },
  {
   "cell_type": "code",
   "execution_count": 3,
   "metadata": {},
   "outputs": [
    {
     "data": {
      "text/plain": [
       "30"
      ]
     },
     "execution_count": 3,
     "metadata": {},
     "output_type": "execute_result"
    }
   ],
   "source": [
    "# should be 30 teams\n",
    "len(subreddits)"
   ]
  },
  {
   "cell_type": "code",
   "execution_count": 4,
   "metadata": {},
   "outputs": [],
   "source": [
    "# initialize the driver\n",
    "# set some options\n",
    "\n",
    "fp = webdriver.FirefoxProfile()\n",
    "fp.set_preference(\"browser.download.folderList\", 2)\n",
    "fp.set_preference(\"browser.download.dir\", os.getcwd())\n",
    "fp.set_preference(\"browser.helperApps.neverAsk.saveToDisk\", \"application/octet-stream\")\n",
    "\n",
    "firefox_options= webdriver.FirefoxOptions()\n",
    "firefox_options.add_argument(\"--headless\")\n",
    "firefox_options.add_argument(\"--height=1300\")\n",
    "firefox_options.add_argument(\"--width=1000\")"
   ]
  },
  {
   "cell_type": "code",
   "execution_count": 56,
   "metadata": {},
   "outputs": [],
   "source": [
    "def prepare_snapshot(team, subreddit):\n",
    "    \"\"\" navigates to top post of the week for subreddit and produces screenshot {team}.jph\n",
    "    \"\"\"\n",
    "    \n",
    "    driver.get(f\"http://old.reddit.com/r/{subreddit}/top/?sort=top&t=week\")\n",
    "    top_link = driver.find_element_by_class_name('thing').get_attribute(\"data-permalink\")\n",
    "    driver.get(f\"http://old.reddit.com{top_link}\")\n",
    "    # remove side bar\n",
    "    element = driver.find_element_by_class_name('side')\n",
    "    driver.execute_script(\"\"\"\n",
    "    var element = arguments[0];\n",
    "    element.parentNode.removeChild(element)\n",
    "    \"\"\", element)\n",
    "\n",
    "    # remove listingsignupbar\n",
    "    element = driver.find_element_by_class_name('listingsignupbar')\n",
    "    driver.execute_script(\"\"\"\n",
    "    var element = arguments[0];\n",
    "    element.parentNode.removeChild(element)\n",
    "    \"\"\", element)\n",
    "\n",
    "    # remove commentsignupbar\n",
    "    element = driver.find_element_by_class_name('commentsignupbar')\n",
    "    driver.execute_script(\"\"\"\n",
    "    var element = arguments[0];\n",
    "    element.parentNode.removeChild(element)\n",
    "    \"\"\", element)\n",
    "    \n",
    "    # expand image/video if one is there\n",
    "    try:\n",
    "        driver.find_element_by_css_selector('.expando-button.collapsed').click()\n",
    "    except:\n",
    "        pass\n",
    "    \n",
    "    sleep(3)\n",
    "\n",
    "    driver.save_screenshot(f\"{team}.png\")\n",
    "    \n",
    "    return f\"https://np.reddit.com{top_link}\""
   ]
  },
  {
   "cell_type": "code",
   "execution_count": 60,
   "metadata": {},
   "outputs": [],
   "source": [
    "driver = webdriver.Firefox(options=firefox_options, firefox_profile=fp)\n",
    "\n",
    "links = [ prepare_snapshot(team, subreddit) for team, subreddit in subreddits.items() ]"
   ]
  },
  {
   "cell_type": "code",
   "execution_count": 61,
   "metadata": {},
   "outputs": [],
   "source": [
    "driver.close()"
   ]
  },
  {
   "cell_type": "code",
   "execution_count": 21,
   "metadata": {},
   "outputs": [],
   "source": [
    "from imgurpython import ImgurClient"
   ]
  },
  {
   "cell_type": "code",
   "execution_count": 23,
   "metadata": {},
   "outputs": [],
   "source": [
    "client_id = 'dd6f501b4b49c74'\n",
    "client_secret = '35ce3026100229a1a27928589afc8eb347b378cc'\n",
    "\n",
    "client = ImgurClient(client_id, client_secret)"
   ]
  },
  {
   "cell_type": "code",
   "execution_count": 42,
   "metadata": {},
   "outputs": [],
   "source": [
    "def upload_imgur_image(image_path, name=None, title=None, description=None, album=None):\n",
    "    config = {\n",
    "        'album' : album,\n",
    "        'name' : name,\n",
    "        'title' : title,\n",
    "        'description' : description\n",
    "    }\n",
    "    \n",
    "    print(f\"Uploading {image_path}\")\n",
    "    image = client.upload_from_path(image_path, config=config, anon=True)\n",
    "    print(\"Done\")\n",
    "    return image"
   ]
  },
  {
   "cell_type": "code",
   "execution_count": 31,
   "metadata": {},
   "outputs": [],
   "source": [
    "def create_imgur_album(title=None, description=None):\n",
    "    config = {\n",
    "        'title': title,\n",
    "        'description': description,\n",
    "    }\n",
    "    album = client.create_album(config)\n",
    "    return album"
   ]
  },
  {
   "cell_type": "code",
   "execution_count": 46,
   "metadata": {},
   "outputs": [
    {
     "name": "stdout",
     "output_type": "stream",
     "text": [
      "Uploading Baltimore Orioles.png\n",
      "Done\n",
      "Uploading Boston Redsox.png\n",
      "Done\n",
      "Uploading New York Yankees.png\n",
      "Done\n",
      "Uploading Tampa Bay Rays.png\n",
      "Done\n",
      "Uploading Toronto Blue Jays.png\n",
      "Done\n",
      "Uploading Cleveland Indians.png\n",
      "Done\n",
      "Uploading Minnesota Twins.png\n",
      "Done\n",
      "Uploading Kansas City Royals.png\n",
      "Done\n",
      "Uploading Chicago White Sox.png\n",
      "Done\n",
      "Uploading Detroit Tigers.png\n",
      "Done\n",
      "Uploading Houston Astros.png\n",
      "Done\n",
      "Uploading Los Angeles Angels.png\n",
      "Done\n",
      "Uploading Oakland Athletics.png\n",
      "Done\n",
      "Uploading Seattle Mariners.png\n",
      "Done\n",
      "Uploading Texas Rangers.png\n",
      "Done\n",
      "Uploading Atlanta Braves.png\n",
      "Done\n",
      "Uploading Miami Marlins.png\n",
      "Done\n",
      "Uploading New York Mets.png\n",
      "Done\n",
      "Uploading Philadelphia Phillies.png\n",
      "Done\n",
      "Uploading Washington Nationals.png\n",
      "Done\n",
      "Uploading Pittsburgh Pirates.png\n",
      "Done\n",
      "Uploading Milwaukee Brewers.png\n",
      "Done\n",
      "Uploading St. Louis Cardinals.png\n",
      "Done\n",
      "Uploading Chicago Cubs.png\n",
      "Done\n",
      "Uploading Cincinnati Reds.png\n",
      "Done\n",
      "Uploading Arizona Diamondbacks.png\n",
      "Done\n",
      "Uploading Los Angeles Dodgers.png\n",
      "Done\n",
      "Uploading San Francsisco Giants.png\n",
      "Done\n",
      "Uploading Colorado Rockies.png\n",
      "Done\n",
      "Uploading San Diego Padres.png\n"
     ]
    },
    {
     "ename": "ImgurClientRateLimitError",
     "evalue": "Rate-limit exceeded!",
     "output_type": "error",
     "traceback": [
      "\u001b[0;31m---------------------------------------------------------------------------\u001b[0m",
      "\u001b[0;31mImgurClientRateLimitError\u001b[0m                 Traceback (most recent call last)",
      "\u001b[0;32m<ipython-input-46-32dd645f3302>\u001b[0m in \u001b[0;36m<module>\u001b[0;34m\u001b[0m\n\u001b[1;32m      1\u001b[0m \u001b[0;32mfor\u001b[0m \u001b[0mteam\u001b[0m\u001b[0;34m,\u001b[0m \u001b[0msub\u001b[0m \u001b[0;32min\u001b[0m \u001b[0msubreddits\u001b[0m\u001b[0;34m.\u001b[0m\u001b[0mitems\u001b[0m\u001b[0;34m(\u001b[0m\u001b[0;34m)\u001b[0m\u001b[0;34m:\u001b[0m\u001b[0;34m\u001b[0m\u001b[0;34m\u001b[0m\u001b[0m\n\u001b[0;32m----> 2\u001b[0;31m     \u001b[0mupload_imgur_image\u001b[0m\u001b[0;34m(\u001b[0m\u001b[0;34mf\"{team}.png\"\u001b[0m\u001b[0;34m,\u001b[0m \u001b[0mtitle\u001b[0m\u001b[0;34m=\u001b[0m\u001b[0mteam\u001b[0m\u001b[0;34m,\u001b[0m \u001b[0mname\u001b[0m\u001b[0;34m=\u001b[0m\u001b[0mteam\u001b[0m\u001b[0;34m,\u001b[0m \u001b[0mdescription\u001b[0m\u001b[0;34m=\u001b[0m\u001b[0;34mf\"Top post from {sub}\"\u001b[0m\u001b[0;34m,\u001b[0m \u001b[0malbum\u001b[0m \u001b[0;34m=\u001b[0m \u001b[0malbum\u001b[0m\u001b[0;34m[\u001b[0m\u001b[0;34m'deletehash'\u001b[0m\u001b[0;34m]\u001b[0m\u001b[0;34m)\u001b[0m\u001b[0;34m\u001b[0m\u001b[0;34m\u001b[0m\u001b[0m\n\u001b[0m",
      "\u001b[0;32m<ipython-input-42-e2d33848a517>\u001b[0m in \u001b[0;36mupload_imgur_image\u001b[0;34m(image_path, name, title, description, album)\u001b[0m\n\u001b[1;32m      8\u001b[0m \u001b[0;34m\u001b[0m\u001b[0m\n\u001b[1;32m      9\u001b[0m     \u001b[0mprint\u001b[0m\u001b[0;34m(\u001b[0m\u001b[0;34mf\"Uploading {image_path}\"\u001b[0m\u001b[0;34m)\u001b[0m\u001b[0;34m\u001b[0m\u001b[0;34m\u001b[0m\u001b[0m\n\u001b[0;32m---> 10\u001b[0;31m     \u001b[0mimage\u001b[0m \u001b[0;34m=\u001b[0m \u001b[0mclient\u001b[0m\u001b[0;34m.\u001b[0m\u001b[0mupload_from_path\u001b[0m\u001b[0;34m(\u001b[0m\u001b[0mimage_path\u001b[0m\u001b[0;34m,\u001b[0m \u001b[0mconfig\u001b[0m\u001b[0;34m=\u001b[0m\u001b[0mconfig\u001b[0m\u001b[0;34m,\u001b[0m \u001b[0manon\u001b[0m\u001b[0;34m=\u001b[0m\u001b[0;32mTrue\u001b[0m\u001b[0;34m)\u001b[0m\u001b[0;34m\u001b[0m\u001b[0;34m\u001b[0m\u001b[0m\n\u001b[0m\u001b[1;32m     11\u001b[0m     \u001b[0mprint\u001b[0m\u001b[0;34m(\u001b[0m\u001b[0;34m\"Done\"\u001b[0m\u001b[0;34m)\u001b[0m\u001b[0;34m\u001b[0m\u001b[0;34m\u001b[0m\u001b[0m\n\u001b[1;32m     12\u001b[0m     \u001b[0;32mreturn\u001b[0m \u001b[0mimage\u001b[0m\u001b[0;34m\u001b[0m\u001b[0;34m\u001b[0m\u001b[0m\n",
      "\u001b[0;32m~/miniconda3/envs/jup/lib/python3.7/site-packages/imgurpython/client.py\u001b[0m in \u001b[0;36mupload_from_path\u001b[0;34m(self, path, config, anon)\u001b[0m\n\u001b[1;32m    594\u001b[0m         \u001b[0mfd\u001b[0m\u001b[0;34m.\u001b[0m\u001b[0mclose\u001b[0m\u001b[0;34m(\u001b[0m\u001b[0;34m)\u001b[0m\u001b[0;34m\u001b[0m\u001b[0;34m\u001b[0m\u001b[0m\n\u001b[1;32m    595\u001b[0m \u001b[0;34m\u001b[0m\u001b[0m\n\u001b[0;32m--> 596\u001b[0;31m         \u001b[0;32mreturn\u001b[0m \u001b[0mself\u001b[0m\u001b[0;34m.\u001b[0m\u001b[0mmake_request\u001b[0m\u001b[0;34m(\u001b[0m\u001b[0;34m'POST'\u001b[0m\u001b[0;34m,\u001b[0m \u001b[0;34m'upload'\u001b[0m\u001b[0;34m,\u001b[0m \u001b[0mdata\u001b[0m\u001b[0;34m,\u001b[0m \u001b[0manon\u001b[0m\u001b[0;34m)\u001b[0m\u001b[0;34m\u001b[0m\u001b[0;34m\u001b[0m\u001b[0m\n\u001b[0m\u001b[1;32m    597\u001b[0m \u001b[0;34m\u001b[0m\u001b[0m\n\u001b[1;32m    598\u001b[0m     \u001b[0;32mdef\u001b[0m \u001b[0mupload_from_url\u001b[0m\u001b[0;34m(\u001b[0m\u001b[0mself\u001b[0m\u001b[0;34m,\u001b[0m \u001b[0murl\u001b[0m\u001b[0;34m,\u001b[0m \u001b[0mconfig\u001b[0m\u001b[0;34m=\u001b[0m\u001b[0;32mNone\u001b[0m\u001b[0;34m,\u001b[0m \u001b[0manon\u001b[0m\u001b[0;34m=\u001b[0m\u001b[0;32mTrue\u001b[0m\u001b[0;34m)\u001b[0m\u001b[0;34m:\u001b[0m\u001b[0;34m\u001b[0m\u001b[0;34m\u001b[0m\u001b[0m\n",
      "\u001b[0;32m~/miniconda3/envs/jup/lib/python3.7/site-packages/imgurpython/client.py\u001b[0m in \u001b[0;36mmake_request\u001b[0;34m(self, method, route, data, force_anon)\u001b[0m\n\u001b[1;32m    151\u001b[0m         \u001b[0;31m# Rate-limit check\u001b[0m\u001b[0;34m\u001b[0m\u001b[0;34m\u001b[0m\u001b[0;34m\u001b[0m\u001b[0m\n\u001b[1;32m    152\u001b[0m         \u001b[0;32mif\u001b[0m \u001b[0mresponse\u001b[0m\u001b[0;34m.\u001b[0m\u001b[0mstatus_code\u001b[0m \u001b[0;34m==\u001b[0m \u001b[0;36m429\u001b[0m\u001b[0;34m:\u001b[0m\u001b[0;34m\u001b[0m\u001b[0;34m\u001b[0m\u001b[0m\n\u001b[0;32m--> 153\u001b[0;31m             \u001b[0;32mraise\u001b[0m \u001b[0mImgurClientRateLimitError\u001b[0m\u001b[0;34m(\u001b[0m\u001b[0;34m)\u001b[0m\u001b[0;34m\u001b[0m\u001b[0;34m\u001b[0m\u001b[0m\n\u001b[0m\u001b[1;32m    154\u001b[0m \u001b[0;34m\u001b[0m\u001b[0m\n\u001b[1;32m    155\u001b[0m         \u001b[0;32mtry\u001b[0m\u001b[0;34m:\u001b[0m\u001b[0;34m\u001b[0m\u001b[0;34m\u001b[0m\u001b[0m\n",
      "\u001b[0;31mImgurClientRateLimitError\u001b[0m: Rate-limit exceeded!"
     ]
    }
   ],
   "source": [
    "############ only run this when ready##########\n",
    "\n",
    "album = create_imgur_album(title=f\"State of the Baseball Subreddits {datetime.date.today()}\")\n",
    "print(album[\"id\"], album[\"deletehash\"])\n",
    "for team, sub, link in zip(subreddits.keys(),subreddits.values(),links):\n",
    "    upload_imgur_image(f\"{team}.png\", name=sub, title=team, description=f\"{link}\", album = album['deletehash'])"
   ]
  }
 ],
 "metadata": {
  "kernelspec": {
   "display_name": "Python 3",
   "language": "python",
   "name": "python3"
  },
  "language_info": {
   "codemirror_mode": {
    "name": "ipython",
    "version": 3
   },
   "file_extension": ".py",
   "mimetype": "text/x-python",
   "name": "python",
   "nbconvert_exporter": "python",
   "pygments_lexer": "ipython3",
   "version": "3.7.4"
  }
 },
 "nbformat": 4,
 "nbformat_minor": 4
}
