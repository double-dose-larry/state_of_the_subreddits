{
 "cells": [
  {
   "cell_type": "code",
   "execution_count": 1,
   "metadata": {},
   "outputs": [],
   "source": [
    "# will need firefox-geckodriver system package on Ubuntu"
   ]
  },
  {
   "cell_type": "code",
   "execution_count": 2,
   "metadata": {},
   "outputs": [
    {
     "name": "stdout",
     "output_type": "stream",
     "text": [
      "Collecting selenium\n",
      "\u001b[?25l  Downloading https://files.pythonhosted.org/packages/80/d6/4294f0b4bce4de0abf13e17190289f9d0613b0a44e5dd6a7f5ca98459853/selenium-3.141.0-py2.py3-none-any.whl (904kB)\n",
      "\u001b[K     |████████████████████████████████| 911kB 2.8MB/s eta 0:00:01\n",
      "\u001b[?25hRequirement already satisfied: urllib3 in /home/jup/miniconda3/envs/jup/lib/python3.7/site-packages (from selenium) (1.25.6)\n",
      "Installing collected packages: selenium\n",
      "Successfully installed selenium-3.141.0\n"
     ]
    }
   ],
   "source": [
    "!pip install selenium"
   ]
  },
  {
   "cell_type": "code",
   "execution_count": 89,
   "metadata": {},
   "outputs": [],
   "source": [
    "from selenium import webdriver\n",
    "from time import sleep\n",
    "import os"
   ]
  },
  {
   "cell_type": "code",
   "execution_count": 82,
   "metadata": {},
   "outputs": [],
   "source": [
    "subreddits = {\n",
    "    'Baltimore Orioles' : 'orioles',\n",
    "    'Boston Redsox' : 'redsox',\n",
    "    'New York Yankees' : 'NYYankees',\n",
    "    'Tampa Bay Rays' : 'tampabayrays',\n",
    "    'Toronto Blue Jays' : 'torontobluejays',\n",
    "    'Cleveland Indians' : 'ClevelandIndians',\n",
    "    'Minnesota Twins' : 'minnesotatwins',\n",
    "    'Kansas City Royals' : 'KCRoyals',\n",
    "    'Chicago White Sox' : 'whitesox',\n",
    "    'Detroit Tigers' : 'motorcitykitties',\n",
    "    'Houston Astros' : 'Astros',\n",
    "    'Los Angeles Angels' : 'angelsbaseball',\n",
    "    'Oakland Athletics' : 'OaklandAthletics',\n",
    "    'Seattle Mariners' : 'Mariners',\n",
    "    'Texas Rangers' : 'TexasRangers',\n",
    "    'Atlanta Braves' : 'Braves',\n",
    "    'Miami Marlins' : 'letsgofish',\n",
    "    'New York Mets' : 'NewYorkMets',\n",
    "    'Philadelphia Phillies' : 'phillies',\n",
    "    'Washington Nationals' : 'Nationals',\n",
    "    'Pittsburgh Pirates' : 'buccos',\n",
    "    'Milwaukee Brewers' : 'Brewers',\n",
    "    'St. Louis Cardinals' : 'Cardinals',\n",
    "    'Chicago Cubs' : 'CHICubs',\n",
    "    'Cincinnati Reds' : 'Reds',\n",
    "    'Arizona Diamondbacks' : 'azdiamondbacks',\n",
    "    'Los Angeles Dodgers' : 'Dodgers',\n",
    "    'San Francsisco Giants' : 'SFGiants',\n",
    "    'Colorado Rockies' : 'ColoradoRockies',\n",
    "    'San Diego Padres' : 'Padres'\n",
    "}"
   ]
  },
  {
   "cell_type": "code",
   "execution_count": 83,
   "metadata": {},
   "outputs": [
    {
     "data": {
      "text/plain": [
       "30"
      ]
     },
     "execution_count": 83,
     "metadata": {},
     "output_type": "execute_result"
    }
   ],
   "source": [
    "len(subreddits)"
   ]
  },
  {
   "cell_type": "code",
   "execution_count": 64,
   "metadata": {},
   "outputs": [],
   "source": [
    "# initialize the driver\n",
    "# set some options\n",
    "\n",
    "fp = webdriver.FirefoxProfile()\n",
    "fp.set_preference(\"browser.download.folderList\", 2)\n",
    "fp.set_preference(\"browser.download.dir\", os.getcwd())\n",
    "fp.set_preference(\"browser.helperApps.neverAsk.saveToDisk\", \"application/octet-stream\")\n",
    "\n",
    "firefox_options= webdriver.FirefoxOptions()\n",
    "firefox_options.add_argument(\"--headless\")\n",
    "firefox_options.add_argument(\"--height=1300\")\n",
    "firefox_options.add_argument(\"--width=1000\")"
   ]
  },
  {
   "cell_type": "code",
   "execution_count": 65,
   "metadata": {},
   "outputs": [],
   "source": [
    "driver = webdriver.Firefox(options=firefox_options, firefox_profile=fp)"
   ]
  },
  {
   "cell_type": "code",
   "execution_count": 96,
   "metadata": {},
   "outputs": [],
   "source": [
    "def prepare_snapshot(team, subreddit):\n",
    "    \"\"\" navigates to top post of the week for subreddit and produces screenshot {team}.jph\n",
    "    \"\"\"\n",
    "    \n",
    "    driver.get(f\"http://old.reddit.com/r/{subreddit}/top/?sort=top&t=week\")\n",
    "    top_link = driver.find_element_by_class_name('thing').get_attribute(\"data-permalink\")\n",
    "    driver.get(f\"http://old.reddit.com{top_link}\")\n",
    "    # remove side bar\n",
    "    element = driver.find_element_by_class_name('side')\n",
    "    driver.execute_script(\"\"\"\n",
    "    var element = arguments[0];\n",
    "    element.parentNode.removeChild(element)\n",
    "    \"\"\", element)\n",
    "\n",
    "    # remove listingsignupbar\n",
    "    element = driver.find_element_by_class_name('listingsignupbar')\n",
    "    driver.execute_script(\"\"\"\n",
    "    var element = arguments[0];\n",
    "    element.parentNode.removeChild(element)\n",
    "    \"\"\", element)\n",
    "\n",
    "    # remove commentsignupbar\n",
    "    element = driver.find_element_by_class_name('commentsignupbar')\n",
    "    driver.execute_script(\"\"\"\n",
    "    var element = arguments[0];\n",
    "    element.parentNode.removeChild(element)\n",
    "    \"\"\", element)\n",
    "    \n",
    "    # expand image/video if one is there\n",
    "    try:\n",
    "        driver.find_element_by_class_name('expando-button collapsed').click()\n",
    "    except:\n",
    "        pass\n",
    "    \n",
    "    sleep(3)\n",
    "\n",
    "    driver.save_screenshot(f\"{team}.png\")"
   ]
  },
  {
   "cell_type": "code",
   "execution_count": 95,
   "metadata": {},
   "outputs": [
    {
     "ename": "KeyboardInterrupt",
     "evalue": "",
     "output_type": "error",
     "traceback": [
      "\u001b[0;31m---------------------------------------------------------------------------\u001b[0m",
      "\u001b[0;31mKeyboardInterrupt\u001b[0m                         Traceback (most recent call last)",
      "\u001b[0;32m<ipython-input-95-74120ad428b9>\u001b[0m in \u001b[0;36m<module>\u001b[0;34m\u001b[0m\n\u001b[1;32m      2\u001b[0m \u001b[0;34m\u001b[0m\u001b[0m\n\u001b[1;32m      3\u001b[0m \u001b[0;32mfor\u001b[0m \u001b[0mteam\u001b[0m\u001b[0;34m,\u001b[0m \u001b[0msubreddit\u001b[0m \u001b[0;32min\u001b[0m \u001b[0msubreddits\u001b[0m\u001b[0;34m.\u001b[0m\u001b[0mitems\u001b[0m\u001b[0;34m(\u001b[0m\u001b[0;34m)\u001b[0m\u001b[0;34m:\u001b[0m\u001b[0;34m\u001b[0m\u001b[0;34m\u001b[0m\u001b[0m\n\u001b[0;32m----> 4\u001b[0;31m     \u001b[0mprepare_snapshot\u001b[0m\u001b[0;34m(\u001b[0m\u001b[0mteam\u001b[0m\u001b[0;34m,\u001b[0m \u001b[0msubreddit\u001b[0m\u001b[0;34m)\u001b[0m\u001b[0;34m\u001b[0m\u001b[0;34m\u001b[0m\u001b[0m\n\u001b[0m\u001b[1;32m      5\u001b[0m \u001b[0;34m\u001b[0m\u001b[0m\n\u001b[1;32m      6\u001b[0m \u001b[0mdriver\u001b[0m\u001b[0;34m.\u001b[0m\u001b[0mclose\u001b[0m\u001b[0;34m(\u001b[0m\u001b[0;34m)\u001b[0m\u001b[0;34m\u001b[0m\u001b[0;34m\u001b[0m\u001b[0m\n",
      "\u001b[0;32m<ipython-input-93-5b7efe4d487d>\u001b[0m in \u001b[0;36mprepare_snapshot\u001b[0;34m(team, subreddit)\u001b[0m\n\u001b[1;32m     33\u001b[0m         \u001b[0;32mpass\u001b[0m\u001b[0;34m\u001b[0m\u001b[0;34m\u001b[0m\u001b[0m\n\u001b[1;32m     34\u001b[0m \u001b[0;34m\u001b[0m\u001b[0m\n\u001b[0;32m---> 35\u001b[0;31m     \u001b[0msleep\u001b[0m\u001b[0;34m(\u001b[0m\u001b[0;36m1\u001b[0m\u001b[0;34m)\u001b[0m\u001b[0;34m\u001b[0m\u001b[0;34m\u001b[0m\u001b[0m\n\u001b[0m\u001b[1;32m     36\u001b[0m \u001b[0;34m\u001b[0m\u001b[0m\n\u001b[1;32m     37\u001b[0m     \u001b[0mdriver\u001b[0m\u001b[0;34m.\u001b[0m\u001b[0msave_screenshot\u001b[0m\u001b[0;34m(\u001b[0m\u001b[0;34mf\"{team}.png\"\u001b[0m\u001b[0;34m)\u001b[0m\u001b[0;34m\u001b[0m\u001b[0;34m\u001b[0m\u001b[0m\n",
      "\u001b[0;31mKeyboardInterrupt\u001b[0m: "
     ]
    }
   ],
   "source": [
    "driver = webdriver.Firefox(options=firefox_options, firefox_profile=fp)\n",
    "\n",
    "for team, subreddit in subreddits.items():\n",
    "    prepare_snapshot(team, subreddit)\n",
    "\n",
    "driver.close()"
   ]
  },
  {
   "cell_type": "code",
   "execution_count": 99,
   "metadata": {},
   "outputs": [],
   "source": [
    "driver = webdriver.Firefox(options=firefox_options, firefox_profile=fp)\n",
    "\n",
    "prepare_snapshot(\"test\", 'tampabayrays')\n",
    "\n",
    "driver.close()"
   ]
  },
  {
   "cell_type": "code",
   "execution_count": null,
   "metadata": {},
   "outputs": [],
   "source": []
  }
 ],
 "metadata": {
  "kernelspec": {
   "display_name": "Python 3",
   "language": "python",
   "name": "python3"
  },
  "language_info": {
   "codemirror_mode": {
    "name": "ipython",
    "version": 3
   },
   "file_extension": ".py",
   "mimetype": "text/x-python",
   "name": "python",
   "nbconvert_exporter": "python",
   "pygments_lexer": "ipython3",
   "version": "3.7.4"
  }
 },
 "nbformat": 4,
 "nbformat_minor": 4
}
